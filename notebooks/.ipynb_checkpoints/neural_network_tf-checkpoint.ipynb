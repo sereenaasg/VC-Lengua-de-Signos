{
 "cells": [
  {
   "cell_type": "code",
   "execution_count": 1,
   "metadata": {
    "id": "cgxiMxTLCVv4"
   },
   "outputs": [],
   "source": [
    "#import splitfolders\n",
    "\n",
    "import os\n",
    "import cv2\n",
    "\n",
    "data_path = \"../data/augmented_data_all_v2/\"\n",
    "folders = os.listdir(data_path)\n",
    "X = []\n",
    "labels = []\n",
    "for dirname in folders:\n",
    "    filepath = os.path.join(data_path, dirname)\n",
    "    for file in os.listdir(filepath):\n",
    "        filename = os.path.join(filepath, file)\n",
    "        image = cv2.imread(filename)\n",
    "        image = cv2.resize(image, (256, 256))\n",
    "        X.append(image)\n",
    "        labels.append(dirname)"
   ]
  },
  {
   "cell_type": "code",
   "execution_count": 2,
   "metadata": {
    "colab": {
     "base_uri": "https://localhost:8080/"
    },
    "id": "Y5jP2pfD0WvV",
    "outputId": "80930e6b-8ccb-4b9e-b876-6976bf476fd3"
   },
   "outputs": [
    {
     "name": "stdout",
     "output_type": "stream",
     "text": [
      "(615, 256, 256, 3)\n"
     ]
    }
   ],
   "source": [
    "import numpy as np\n",
    "\n",
    "X = np.array(X)\n",
    "labels = np.array(labels)\n",
    "print(X.shape)\n",
    "class_map = {\"negatiu\" : 0, \"positiu\": 1, \"tijeras\": 2}\n",
    "labels = np.array([class_map[label] for label in labels])"
   ]
  },
  {
   "cell_type": "code",
   "execution_count": 3,
   "metadata": {
    "colab": {
     "base_uri": "https://localhost:8080/",
     "height": 205
    },
    "id": "0zOmCqqE2TSz",
    "outputId": "889bca0a-974a-44ad-d0e9-ea7425752381"
   },
   "outputs": [],
   "source": [
    "y = np.zeros((len(labels), 3), dtype = int)\n",
    "for i in range(len(labels)):\n",
    "    y[i][labels[i]] = 1"
   ]
  },
  {
   "cell_type": "code",
   "execution_count": 4,
   "metadata": {
    "colab": {
     "base_uri": "https://localhost:8080/",
     "height": 205
    },
    "id": "siXw5VEkgJuj",
    "outputId": "2796a9a3-5ba8-4e70-8597-fc96c2889b9b"
   },
   "outputs": [],
   "source": [
    "from sklearn.model_selection import train_test_split\n",
    "\n",
    "X_train, X_test, y_train, y_test = train_test_split(X, y, test_size=0.1, random_state=42)"
   ]
  },
  {
   "cell_type": "code",
   "execution_count": 5,
   "metadata": {
    "id": "1TrCQa8m6eiM"
   },
   "outputs": [],
   "source": [
    "import tensorflow as tf\n",
    "\n",
    "inputs = tf.keras.Input(shape=(256,256,3,))\n",
    "x = tf.keras.layers.Conv2D(filters=8, kernel_size=3)(inputs)\n",
    "x = tf.keras.layers.Conv2D(filters=8, kernel_size=3)(x)\n",
    "x = tf.keras.layers.MaxPool2D()(x)\n",
    "\n",
    "x = tf.keras.layers.Conv2D(filters=16, kernel_size=3)(x)\n",
    "x = tf.keras.layers.Conv2D(filters=16, kernel_size=3)(x)\n",
    "x = tf.keras.layers.MaxPool2D()(x)\n",
    "\n",
    "x = tf.keras.layers.Conv2D(filters=32, kernel_size=3)(x)\n",
    "x = tf.keras.layers.Conv2D(filters=32, kernel_size=3)(x)\n",
    "x = tf.keras.layers.MaxPool2D()(x)\n",
    "\n",
    "x = tf.keras.layers.Flatten()(x)\n",
    "outputs = tf.keras.layers.Dense(3, activation=tf.nn.softmax)(x)\n",
    "model = tf.keras.Model(inputs=inputs, outputs=outputs)\n"
   ]
  },
  {
   "cell_type": "code",
   "execution_count": 6,
   "metadata": {
    "id": "VVlRLr7i7U0j"
   },
   "outputs": [],
   "source": [
    "model.compile(optimizer=tf.keras.optimizers.Adam(learning_rate=1e-3),\n",
    "              loss=tf.keras.losses.categorical_crossentropy,\n",
    "               metrics=['accuracy'])\n"
   ]
  },
  {
   "cell_type": "code",
   "execution_count": 7,
   "metadata": {
    "colab": {
     "base_uri": "https://localhost:8080/"
    },
    "id": "GWOyYOSU8zPI",
    "outputId": "74c613fe-39ce-454a-fa6b-e0f55a1039f2"
   },
   "outputs": [
    {
     "name": "stdout",
     "output_type": "stream",
     "text": [
      "Model: \"model\"\n",
      "_________________________________________________________________\n",
      " Layer (type)                Output Shape              Param #   \n",
      "=================================================================\n",
      " input_1 (InputLayer)        [(None, 256, 256, 3)]     0         \n",
      "                                                                 \n",
      " conv2d (Conv2D)             (None, 254, 254, 8)       224       \n",
      "                                                                 \n",
      " conv2d_1 (Conv2D)           (None, 252, 252, 8)       584       \n",
      "                                                                 \n",
      " max_pooling2d (MaxPooling2D  (None, 126, 126, 8)      0         \n",
      " )                                                               \n",
      "                                                                 \n",
      " conv2d_2 (Conv2D)           (None, 124, 124, 16)      1168      \n",
      "                                                                 \n",
      " conv2d_3 (Conv2D)           (None, 122, 122, 16)      2320      \n",
      "                                                                 \n",
      " max_pooling2d_1 (MaxPooling  (None, 61, 61, 16)       0         \n",
      " 2D)                                                             \n",
      "                                                                 \n",
      " conv2d_4 (Conv2D)           (None, 59, 59, 32)        4640      \n",
      "                                                                 \n",
      " conv2d_5 (Conv2D)           (None, 57, 57, 32)        9248      \n",
      "                                                                 \n",
      " max_pooling2d_2 (MaxPooling  (None, 28, 28, 32)       0         \n",
      " 2D)                                                             \n",
      "                                                                 \n",
      " flatten (Flatten)           (None, 25088)             0         \n",
      "                                                                 \n",
      " dense (Dense)               (None, 3)                 75267     \n",
      "                                                                 \n",
      "=================================================================\n",
      "Total params: 93,451\n",
      "Trainable params: 93,451\n",
      "Non-trainable params: 0\n",
      "_________________________________________________________________\n"
     ]
    }
   ],
   "source": [
    "model.summary()"
   ]
  },
  {
   "cell_type": "code",
   "execution_count": null,
   "metadata": {
    "id": "8xcunBeb_4WT"
   },
   "outputs": [],
   "source": [
    "\n"
   ]
  },
  {
   "cell_type": "code",
   "execution_count": 8,
   "metadata": {
    "colab": {
     "base_uri": "https://localhost:8080/"
    },
    "id": "phP5ZeaVDf_s",
    "outputId": "58f17301-23b4-4769-a400-775cccaff3dc"
   },
   "outputs": [
    {
     "name": "stdout",
     "output_type": "stream",
     "text": [
      "Epoch 1/10\n",
      "35/35 [==============================] - 22s 586ms/step - loss: 27.7886 - accuracy: 0.6347\n",
      "Epoch 2/10\n",
      "35/35 [==============================] - 27s 758ms/step - loss: 0.5988 - accuracy: 0.9331\n",
      "Epoch 3/10\n",
      "35/35 [==============================] - 23s 649ms/step - loss: 0.1493 - accuracy: 0.9783\n",
      "Epoch 4/10\n",
      "35/35 [==============================] - 25s 703ms/step - loss: 0.0672 - accuracy: 0.9928\n",
      "Epoch 5/10\n",
      "35/35 [==============================] - 23s 655ms/step - loss: 4.6078e-04 - accuracy: 1.0000\n",
      "Epoch 6/10\n",
      "35/35 [==============================] - 23s 669ms/step - loss: 3.9762e-04 - accuracy: 1.0000\n",
      "Epoch 7/10\n",
      "35/35 [==============================] - 23s 657ms/step - loss: 1.2174e-04 - accuracy: 1.0000\n",
      "Epoch 8/10\n",
      "35/35 [==============================] - 23s 648ms/step - loss: 9.0873e-05 - accuracy: 1.0000\n",
      "Epoch 9/10\n",
      "35/35 [==============================] - 24s 683ms/step - loss: 7.4463e-05 - accuracy: 1.0000\n",
      "Epoch 10/10\n",
      "35/35 [==============================] - 23s 647ms/step - loss: 6.3370e-05 - accuracy: 1.0000\n"
     ]
    }
   ],
   "source": [
    "h = model.fit(X_train,y_train,batch_size=16,epochs=10,)"
   ]
  },
  {
   "cell_type": "code",
   "execution_count": 9,
   "metadata": {
    "id": "gRAfU2EHEmSj"
   },
   "outputs": [
    {
     "data": {
      "image/png": "[encoded data removed]",
      "text/plain": [
       "<Figure size 432x288 with 1 Axes>"
      ]
     },
     "metadata": {},
     "output_type": "display_data"
    }
   ],
   "source": [
    "import matplotlib.pyplot as plt\n",
    "\n",
    "plt.ylabel(\"Loss function\")\n",
    "plt.xlabel(\"Epocas\")\n",
    "plt.plot(h.history[\"loss\"])\n",
    "plt.show()"
   ]
  },
  {
   "cell_type": "code",
   "execution_count": 10,
   "metadata": {
    "id": "RwormDeOF_d6"
   },
   "outputs": [
    {
     "name": "stdout",
     "output_type": "stream",
     "text": [
      "2/2 [==============================] - 1s 342ms/step\n"
     ]
    },
    {
     "data": {
      "text/plain": [
       "array([1, 1, 2, 2, 0, 2, 1, 0, 1, 0, 1, 1, 0, 1, 0, 1, 1, 0, 2, 2, 2, 1,\n",
       "       2, 1, 2, 1, 2, 1, 1, 2, 0, 0, 1, 1, 0, 1, 2, 2, 0, 0, 0, 1, 1, 1,\n",
       "       0, 2, 0, 2, 2, 2, 1, 1, 2, 2, 0, 1, 0, 1, 2, 2, 1, 0], dtype=int64)"
      ]
     },
     "execution_count": 10,
     "metadata": {},
     "output_type": "execute_result"
    }
   ],
   "source": [
    "preds = model.predict(X_test)\n",
    "preds = np.argmax(preds, axis=1)\n",
    "preds"
   ]
  },
  {
   "cell_type": "code",
   "execution_count": 11,
   "metadata": {
    "id": "eyf_XPEu7zcc"
   },
   "outputs": [
    {
     "data": {
      "text/plain": [
       "array([1, 1, 2, 2, 0, 2, 1, 0, 1, 0, 1, 1, 0, 1, 0, 1, 1, 0, 1, 2, 2, 1,\n",
       "       2, 1, 2, 1, 2, 1, 1, 2, 0, 0, 1, 1, 0, 1, 2, 2, 0, 0, 0, 1, 1, 1,\n",
       "       0, 2, 0, 2, 2, 2, 1, 1, 2, 2, 0, 1, 0, 1, 2, 2, 2, 0], dtype=int64)"
      ]
     },
     "execution_count": 11,
     "metadata": {},
     "output_type": "execute_result"
    }
   ],
   "source": [
    "y_testt = np.argmax(y_test,axis=1)\n",
    "y_testt"
   ]
  },
  {
   "cell_type": "code",
   "execution_count": 12,
   "metadata": {
    "id": "xhYnSMZXF7b4"
   },
   "outputs": [
    {
     "data": {
      "text/plain": [
       "0.967741935483871"
      ]
     },
     "execution_count": 12,
     "metadata": {},
     "output_type": "execute_result"
    }
   ],
   "source": [
    "np.sum(y_testt == preds)/len(preds)"
   ]
  },
  {
   "cell_type": "code",
   "execution_count": 13,
   "metadata": {
    "scrolled": true
   },
   "outputs": [],
   "source": [
    "model.save('../real_time_detection/model.h5')"
   ]
  },
  {
   "cell_type": "code",
   "execution_count": null,
   "metadata": {},
   "outputs": [],
   "source": []
  }
 ],
 "metadata": {
  "colab": {
   "provenance": []
  },
  "kernelspec": {
   "display_name": "Python 3 (Spyder)",
   "language": "python3",
   "name": "python3"
  },
  "language_info": {
   "codemirror_mode": {
    "name": "ipython",
    "version": 3
   },
   "file_extension": ".py",
   "mimetype": "text/x-python",
   "name": "python",
   "nbconvert_exporter": "python",
   "pygments_lexer": "ipython3",
   "version": "3.10.9"
  }
 },
 "nbformat": 4,
 "nbformat_minor": 4
}
