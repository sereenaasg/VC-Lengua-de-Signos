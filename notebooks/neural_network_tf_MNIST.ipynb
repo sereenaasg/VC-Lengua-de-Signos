{
 "cells": [
  {
   "cell_type": "code",
   "execution_count": 1,
   "metadata": {
    "id": "cgxiMxTLCVv4"
   },
   "outputs": [],
   "source": [
    "# IMPORTS\n",
    "\n",
    "import os\n",
    "import cv2\n",
    "import pandas as pd\n",
    "import numpy as np\n",
    "import tensorflow as tf\n",
    "import matplotlib.pyplot as plt"
   ]
  },
  {
   "cell_type": "code",
   "execution_count": 2,
   "metadata": {},
   "outputs": [],
   "source": [
    "# LOADING DATASET\n",
    "data_path = \"../data/MNIST/\"\n",
    "train = pd.DataFrame.to_numpy(pd.read_csv(f\"{data_path}sign_mnist_train.csv\"))\n",
    "test = pd.DataFrame.to_numpy(pd.read_csv(f\"{data_path}sign_mnist_test.csv\"))"
   ]
  },
  {
   "cell_type": "code",
   "execution_count": 3,
   "metadata": {},
   "outputs": [],
   "source": [
    "# TRAIN/TEST SPLIT\n",
    "X_train = train[:,1:].reshape((train.shape[0], 28, 28, 1))\n",
    "y_train = train[:,0]\n",
    "X_test = test[:,1:].reshape((test.shape[0], 28, 28, 1))\n",
    "y_test = test[:,0]"
   ]
  },
  {
   "cell_type": "code",
   "execution_count": 4,
   "metadata": {},
   "outputs": [
    {
     "data": {
      "text/plain": [
       "array([ 3,  6,  2, ..., 18, 17, 23], dtype=int64)"
      ]
     },
     "execution_count": 4,
     "metadata": {},
     "output_type": "execute_result"
    }
   ],
   "source": [
    "y_train"
   ]
  },
  {
   "cell_type": "code",
   "execution_count": 5,
   "metadata": {
    "colab": {
     "base_uri": "https://localhost:8080/"
    },
    "id": "Y5jP2pfD0WvV",
    "outputId": "80930e6b-8ccb-4b9e-b876-6976bf476fd3"
   },
   "outputs": [],
   "source": [
    "import numpy as np\n",
    "from tensorflow.keras import backend as K\n",
    "from tensorflow.python.keras.layers import InputSpec, Layer\n",
    "\n",
    "class Argmax(Layer):\n",
    "    \"\"\"\n",
    "    Based on https://github.com/YerevaNN/R-NET-in-Keras/blob/master/layers/Argmax.py\n",
    "    \"\"\"\n",
    "    def __init__(self, axis=-1, **kwargs):\n",
    "        super(Argmax, self).__init__(**kwargs)\n",
    "        self.supports_masking = True\n",
    "        self.axis = axis\n",
    "\n",
    "    def call(self, inputs, mask=None):\n",
    "        return K.argmax(inputs, axis=self.axis)\n",
    "\n",
    "    def compute_output_shape(self, input_shape):\n",
    "        input_shape = list(input_shape)\n",
    "        del input_shape[self.axis]\n",
    "        return tuple(input_shape)\n",
    "\n",
    "    def compute_mask(self, x, mask):\n",
    "        return None\n",
    "\n",
    "    def get_config(self):\n",
    "        config = {'axis': self.axis}\n",
    "        base_config = super(Argmax, self).get_config()\n",
    "        return dict(list(base_config.items()) + list(config.items()))"
   ]
  },
  {
   "cell_type": "code",
   "execution_count": 6,
   "metadata": {
    "id": "1TrCQa8m6eiM"
   },
   "outputs": [],
   "source": [
    "# DEFINITION OF THE NEURAL NETWORK\n",
    "inputs = tf.keras.Input(shape=(28,28,1,))\n",
    "x = tf.keras.layers.Conv2D(filters=8, kernel_size=3, padding=\"same\", strides=1)(inputs)\n",
    "x = tf.keras.layers.Conv2D(filters=8, kernel_size=3, padding=\"same\", strides=1)(x)\n",
    "x = tf.keras.layers.MaxPool2D()(x)\n",
    "\n",
    "x = tf.keras.layers.Conv2D(filters=16, kernel_size=3, padding=\"same\", strides=1)(x)\n",
    "x = tf.keras.layers.Conv2D(filters=16, kernel_size=3, padding=\"same\", strides=1)(x)\n",
    "x = tf.keras.layers.MaxPool2D()(x)\n",
    "\n",
    "x = tf.keras.layers.Conv2D(filters=32, kernel_size=3, padding=\"same\", strides=1)(x)\n",
    "x = tf.keras.layers.Conv2D(filters=32, kernel_size=3, padding=\"same\", strides=1)(x)\n",
    "x = tf.keras.layers.MaxPool2D()(x)\n",
    "\n",
    "x = tf.keras.layers.Flatten()(x)\n",
    "outputs = tf.keras.layers.Dense(25, activation=tf.nn.softmax)(x)\n",
    "model = tf.keras.Model(inputs=inputs, outputs=outputs)"
   ]
  },
  {
   "cell_type": "code",
   "execution_count": 7,
   "metadata": {},
   "outputs": [],
   "source": [
    "model = tf.keras.models.Sequential([\n",
    "    tf.keras.Input(shape=(28,28,1,)),\n",
    "\ttf.keras.layers.Conv2D(filters=8, kernel_size=3, padding=\"same\", strides=1),\n",
    "\ttf.keras.layers.Conv2D(filters=8, kernel_size=3, padding=\"same\", strides=1),\n",
    "\ttf.keras.layers.MaxPool2D(),\n",
    "\n",
    "\ttf.keras.layers.Conv2D(filters=16, kernel_size=3, padding=\"same\", strides=1),\n",
    "\ttf.keras.layers.Conv2D(filters=16, kernel_size=3, padding=\"same\", strides=1),\n",
    "\ttf.keras.layers.MaxPool2D(),\n",
    "\n",
    "\ttf.keras.layers.Conv2D(filters=32, kernel_size=3, padding=\"same\", strides=1),\n",
    "\ttf.keras.layers.Conv2D(filters=32, kernel_size=3, padding=\"same\", strides=1),\n",
    "\ttf.keras.layers.MaxPool2D(),\n",
    "\n",
    "\ttf.keras.layers.Flatten(),\n",
    "\ttf.keras.layers.Dense(25, activation=tf.nn.softmax),\n",
    "\t#tf.keras.layers.Lambda(lambda x: tf.cast(x, dtype=tf.int64))\n",
    " \t#tf.keras.layers.Lambda(lambda x: tf.argmax(x)),\n",
    "\t])\n"
   ]
  },
  {
   "cell_type": "code",
   "execution_count": 8,
   "metadata": {
    "id": "VVlRLr7i7U0j"
   },
   "outputs": [],
   "source": [
    "model.compile(optimizer=tf.keras.optimizers.Adam(learning_rate=1e-3),\n",
    "              loss=tf.keras.losses.categorical_crossentropy,\n",
    "               metrics=['accuracy'])\n"
   ]
  },
  {
   "cell_type": "code",
   "execution_count": 9,
   "metadata": {
    "colab": {
     "base_uri": "https://localhost:8080/"
    },
    "id": "GWOyYOSU8zPI",
    "outputId": "74c613fe-39ce-454a-fa6b-e0f55a1039f2"
   },
   "outputs": [
    {
     "name": "stdout",
     "output_type": "stream",
     "text": [
      "Model: \"sequential\"\n",
      "_________________________________________________________________\n",
      " Layer (type)                Output Shape              Param #   \n",
      "=================================================================\n",
      " conv2d_6 (Conv2D)           (None, 28, 28, 8)         80        \n",
      "                                                                 \n",
      " conv2d_7 (Conv2D)           (None, 28, 28, 8)         584       \n",
      "                                                                 \n",
      " max_pooling2d_3 (MaxPooling  (None, 14, 14, 8)        0         \n",
      " 2D)                                                             \n",
      "                                                                 \n",
      " conv2d_8 (Conv2D)           (None, 14, 14, 16)        1168      \n",
      "                                                                 \n",
      " conv2d_9 (Conv2D)           (None, 14, 14, 16)        2320      \n",
      "                                                                 \n",
      " max_pooling2d_4 (MaxPooling  (None, 7, 7, 16)         0         \n",
      " 2D)                                                             \n",
      "                                                                 \n",
      " conv2d_10 (Conv2D)          (None, 7, 7, 32)          4640      \n",
      "                                                                 \n",
      " conv2d_11 (Conv2D)          (None, 7, 7, 32)          9248      \n",
      "                                                                 \n",
      " max_pooling2d_5 (MaxPooling  (None, 3, 3, 32)         0         \n",
      " 2D)                                                             \n",
      "                                                                 \n",
      " flatten_1 (Flatten)         (None, 288)               0         \n",
      "                                                                 \n",
      " dense_1 (Dense)             (None, 25)                7225      \n",
      "                                                                 \n",
      "=================================================================\n",
      "Total params: 25,265\n",
      "Trainable params: 25,265\n",
      "Non-trainable params: 0\n",
      "_________________________________________________________________\n"
     ]
    }
   ],
   "source": [
    "model.summary()"
   ]
  },
  {
   "cell_type": "code",
   "execution_count": 10,
   "metadata": {
    "id": "8xcunBeb_4WT"
   },
   "outputs": [],
   "source": [
    "y_train_OneHot = np.zeros((y_train.shape[0], 25), dtype=int)\n",
    "for i in range(y_train.shape[0]):\n",
    "    y_train_OneHot[i][y_train[i]] = 1\n",
    "y_test_OneHot = np.zeros((y_test.shape[0], 25), dtype=int)\n",
    "for i in range(y_test.shape[0]):\n",
    "    y_test_OneHot[i][y_test[i]] = 1"
   ]
  },
  {
   "cell_type": "code",
   "execution_count": 11,
   "metadata": {
    "colab": {
     "base_uri": "https://localhost:8080/"
    },
    "id": "phP5ZeaVDf_s",
    "outputId": "58f17301-23b4-4769-a400-775cccaff3dc"
   },
   "outputs": [
    {
     "name": "stdout",
     "output_type": "stream",
     "text": [
      "Epoch 1/10\n",
      "858/858 [==============================] - 11s 12ms/step - loss: 0.9899 - accuracy: 0.8369\n",
      "Epoch 2/10\n",
      "858/858 [==============================] - 10s 12ms/step - loss: 0.0192 - accuracy: 0.9961\n",
      "Epoch 3/10\n",
      "858/858 [==============================] - 10s 12ms/step - loss: 0.0463 - accuracy: 0.9858\n",
      "Epoch 4/10\n",
      "858/858 [==============================] - 10s 12ms/step - loss: 2.8670e-04 - accuracy: 1.0000\n",
      "Epoch 5/10\n",
      "858/858 [==============================] - 10s 12ms/step - loss: 1.1059e-04 - accuracy: 1.0000\n",
      "Epoch 6/10\n",
      "858/858 [==============================] - 10s 12ms/step - loss: 6.9435e-05 - accuracy: 1.0000\n",
      "Epoch 7/10\n",
      "858/858 [==============================] - 11s 13ms/step - loss: 4.7529e-05 - accuracy: 1.0000\n",
      "Epoch 8/10\n",
      "858/858 [==============================] - 11s 13ms/step - loss: 3.2309e-05 - accuracy: 1.0000\n",
      "Epoch 9/10\n",
      "858/858 [==============================] - 11s 12ms/step - loss: 2.1644e-05 - accuracy: 1.0000\n",
      "Epoch 10/10\n",
      "858/858 [==============================] - 12s 14ms/step - loss: 1.4143e-05 - accuracy: 1.0000\n"
     ]
    }
   ],
   "source": [
    "h = model.fit(X_train,y_train_OneHot,batch_size=32,epochs=10,)"
   ]
  },
  {
   "cell_type": "code",
   "execution_count": 12,
   "metadata": {},
   "outputs": [
    {
     "name": "stdout",
     "output_type": "stream",
     "text": [
      "225/225 [==============================] - 1s 5ms/step\n",
      "0.8530395984383714\n"
     ]
    }
   ],
   "source": [
    "preds = model.predict(X_test)\n",
    "preds = np.argmax(preds, axis=1)\n",
    "y_testt = np.argmax(y_test_OneHot,axis=1)\n",
    "print(np.sum(y_testt == preds)/len(preds))"
   ]
  },
  {
   "cell_type": "code",
   "execution_count": 13,
   "metadata": {
    "scrolled": true
   },
   "outputs": [],
   "source": [
    "model.save('real_time_detection/modelMNIST.h5')"
   ]
  }
 ],
 "metadata": {
  "colab": {
   "provenance": []
  },
  "kernelspec": {
   "display_name": "Python 3 (ipykernel)",
   "language": "python",
   "name": "python3"
  },
  "language_info": {
   "codemirror_mode": {
    "name": "ipython",
    "version": 3
   },
   "file_extension": ".py",
   "mimetype": "text/x-python",
   "name": "python",
   "nbconvert_exporter": "python",
   "pygments_lexer": "ipython3",
   "version": "3.10.6"
  }
 },
 "nbformat": 4,
 "nbformat_minor": 1
}
